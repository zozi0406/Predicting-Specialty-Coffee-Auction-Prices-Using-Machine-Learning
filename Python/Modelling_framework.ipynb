{
 "cells": [
  {
   "cell_type": "code",
   "execution_count": 1,
   "metadata": {},
   "outputs": [
    {
     "name": "stdout",
     "output_type": "stream",
     "text": [
      "C:\\Users\\Zozi\\Documents\\rae\\Python\n"
     ]
    }
   ],
   "source": [
    "import numpy as np\n",
    "import pandas as pd\n",
    "import matplotlib.pyplot as plt\n",
    "import os\n",
    "import seaborn as sns\n",
    "import sklearn\n",
    "%matplotlib inline\n",
    "\n",
    "from matplotlib import rcParams\n",
    "import matplotlib.ticker as ticker\n",
    "rcParams.update({'figure.autolayout': True})"
   ]
  },
  {
   "cell_type": "markdown",
   "metadata": {},
   "source": [
    "Import data and split sample"
   ]
  },
  {
   "cell_type": "code",
   "execution_count": 9,
   "metadata": {},
   "outputs": [],
   "source": [
    "##### from sklearn import preprocessing\n",
    "from sklearn.model_selection import KFold\n",
    "from sklearn.decomposition import PCA\n",
    "from sklearn.model_selection import train_test_split\n",
    "from sklearn import preprocessing\n",
    "rs = 42\n",
    "\n",
    "\n",
    "traore_data = pd.read_csv(\"../R project/Out/data_traore.csv\")\n",
    "ext_data_max = pd.read_csv(\"../R project/Out/data_extended_max.csv\")\n",
    "ext_data_sum = pd.read_csv(\"../R project/Out/data_extended_sum.csv\")\n",
    "trao_names = traore_data.columns\n",
    "\n",
    "#Scale to 2010 USD\n",
    "traore_data[\"adj_high_bid\"]=traore_data[\"adj_high_bid\"]/1.8975\n",
    "ext_data_max[\"adj_high_bid\"]=ext_data_max[\"adj_high_bid\"]/1.8975\n",
    "ext_data_sum[\"adj_high_bid\"]=ext_data_sum[\"adj_high_bid\"]/1.8975\n",
    "#generate test and train indices\n",
    "full_index=range(traore_data.shape[0])\n",
    "train_ind,test_ind = train_test_split(full_index,test_size=0.2,random_state=rs)\n",
    "\n",
    "#Traore 2018 dataset\n",
    "X_trao = traore_data.drop(\"adj_high_bid\",axis=1)\n",
    "Y_trao = traore_data[\"adj_high_bid\"]\n",
    "#X_trao = pd.concat([X_trao, pd.get_dummies(traore_data['year'], prefix = 'year_')],axis=1)\n",
    "X_trao = X_trao.drop([\"multiple\",\"asian_buyer\",\"nordic_buyer\",\"north_american_buyer\",\"european_buyer\",\"other_buyer\"], axis=1)\n",
    "X_trao = pd.concat([X_trao, pd.get_dummies(traore_data['country'], prefix = 'country_')],axis=1)\n",
    "\n",
    "\n",
    "\n",
    "#Extended dataset\n",
    "Y_Ext = ext_data_max[\"adj_high_bid\"]\n",
    "X_Ext_max = ext_data_max.drop(\"adj_high_bid\",axis=1)\n",
    "X_Ext_sum = ext_data_sum.drop(\"adj_high_bid\",axis=1)\n",
    "\n",
    "X_Ext_max = pd.concat([X_Ext_max, pd.get_dummies(traore_data['country'], prefix = 'country_')],axis=1)\n",
    "X_Ext_max = X_Ext_max.drop([\"multiple\",\"asian_buyer\",\"nordic_buyer\",\"north_american_buyer\",\"european_buyer\",\"other_buyer\",\"utz\"], axis=1)\n",
    "#X_Ext = X_Ext.drop([\"rank1\",\"rank2\",\"rank3\",\"rank4\"],axis=1)\n",
    "#X_Ext_max[\"relrank\"] = pd.to_numeric(X_Ext_max[\"rank\"].str.extract(\"(\\d+)\",expand=False))/X_Ext_max[\"ncoff\"]\n",
    "\n",
    "X_Ext_sum = pd.concat([X_Ext_sum, pd.get_dummies(traore_data['country'], prefix = 'country_')],axis=1)\n",
    "X_Ext_sum = X_Ext_sum.drop([\"multiple\",\"asian_buyer\",\"nordic_buyer\",\"north_american_buyer\",\"european_buyer\",\"other_buyer\",\"utz\"], axis=1)\n",
    "#X_Ext = X_Ext.drop([\"rank1\",\"rank2\",\"rank3\",\"rank4\"],axis=1)\n",
    "#X_Ext_sum[\"relrank\"] = pd.to_numeric(X_Ext_sum[\"rank\"].str.extract(\"(\\d+)\",expand=False))/X_Ext_sum[\"ncoff\"]\n",
    "\n",
    "X_trao = X_trao.drop([\"scoresq\",\"lnsize\",\"year\",\"country\",\"matchID\",\"rank\",\"program\",\"utz\",\"lnprice\",'lntrunc_min','trunc_min'],axis=1)\n",
    "X_Ext_max = X_Ext_max.drop([\"scoresq\",\"lnsize\",\"year\",\"country\",\"matchID\",\"rank\",\"program\",\"lnprice\"],axis=1)\n",
    "X_Ext_sum = X_Ext_sum.drop([\"scoresq\",\"lnsize\",\"year\",\"country\",\"matchID\",\"rank\",\"program\",\"lnprice\"],axis=1)\n",
    "\n",
    "\n",
    "#Export summary statistics\n",
    "pd.concat([Y_trao,X_trao], axis=1).describe().to_csv(\"C:/Users/Zozi/Documents/rae/Python/Out/desc_trao.csv\")\n",
    "pd.concat([Y_Ext,X_Ext_sum], axis=1).describe().to_csv(\"C:/Users/Zozi/Documents/rae/Python/Out/desc_ext.csv\")\n",
    "pd.concat([Y_Ext,X_Ext_max], axis=1).describe().to_csv(\"C:/Users/Zozi/Documents/rae/Python/Out/desc_ext_max.csv\")\n",
    "\n",
    "\n",
    "#Export final datasets\n",
    "pd.concat([Y_trao,X_trao], axis=1).reset_index(drop=True).to_csv(\"C:/Users/Zozi/Documents/rae/Python/Out/Baseline.csv\")\n",
    "pd.concat([Y_Ext,X_Ext_sum], axis=1).reset_index(drop=True).to_csv(\"C:/Users/Zozi/Documents/rae/Python/Out/Cumulative.csv\")\n",
    "pd.concat([Y_Ext,X_Ext_max], axis=1).reset_index(drop=True).to_csv(\"C:/Users/Zozi/Documents/rae/Python/Out/Binary.csv\")\n",
    "\n",
    "X_trao = X_trao.drop(['country__Brazil','bourbon_variety','wet_proc'],axis=1)\n",
    "X_Ext_max = X_Ext_max.drop(['country__Brazil','bourbon_variety','wet_proc'],axis=1)\n",
    "X_Ext_sum = X_Ext_sum.drop(['country__Brazil','bourbon_variety','wet_proc'],axis=1)\n",
    "Extbase_max = X_Ext_max\n",
    "Extbase_sum = X_Ext_sum\n",
    "\n",
    "\n",
    "#pca = PCA(n_components=5, svd_solver='auto')\n",
    "#X_Ext = pd.concat([X_Ext,pd.DataFrame(pca.fit_transform(X_Ext.loc[:,levelcols]))],axis=1)\n",
    "#print(pca.explained_variance_ratio_)\n",
    "\n",
    "\n",
    "X_trao_names = X_trao.columns\n",
    "scaler_trao = preprocessing.StandardScaler().fit(X_trao)\n",
    "X_trao = pd.DataFrame(scaler_trao.transform(X_trao),columns=X_trao_names)\n",
    "\n",
    "\n",
    "kf = KFold(n_splits=5, shuffle=True, random_state=rs^2)\n",
    "i=0\n",
    "train = list()\n",
    "test = list()\n",
    "for train_index, test_index in kf.split(np.array(traore_data.iloc[train_ind])):\n",
    "    train.append(train_index)\n",
    "    test.append(test_index)\n",
    "    i += 1\n",
    "\n",
    "\n"
   ]
  },
  {
   "cell_type": "markdown",
   "metadata": {},
   "source": [
    "**NEED TO RUN STATA SCRIPT BEFORE CONTINUING**\n",
    "\n",
    "Set up 5-fold Cross-validation evaluation function"
   ]
  },
  {
   "cell_type": "code",
   "execution_count": 3,
   "metadata": {},
   "outputs": [],
   "source": [
    "from sklearn.metrics import mean_absolute_error\n",
    "from sklearn.metrics import mean_squared_error\n",
    "from sklearn.model_selection import cross_val_score\n",
    "\n",
    "def cvlist():\n",
    "    x=0\n",
    "    while x < len(train):\n",
    "        yield train[x],test[x]\n",
    "        x += 1\n",
    "\n",
    "def evalmodel(model,X,Y):\n",
    "    cvs=cvlist()\n",
    "    mae = -1*cross_val_score(model, X.iloc[train_ind], Y.iloc[train_ind], cv=cvs, scoring=\"neg_mean_absolute_error\")\n",
    "    cvs=cvlist()\n",
    "    rmse = (-1*cross_val_score(model, X.iloc[train_ind], Y.iloc[train_ind], cv=cvs, scoring=\"neg_mean_squared_error\"))**(1/2)\n",
    "    return mae, rmse\n",
    "\n",
    "def evaltest(model,X,Y):\n",
    "    model.fit(X.iloc[train_ind],Y.iloc[train_ind])\n",
    "    Y=Y.iloc[test_ind]\n",
    "    y_pred=model.predict(X.iloc[test_ind])\n",
    "    mae = mean_absolute_error(Y[test_ind],y_pred)\n",
    "    rmse = mean_squared_error(Y[test_ind],y_pred,squared=False)\n",
    "    return mae, rmse\n",
    "\n",
    "    "
   ]
  },
  {
   "cell_type": "code",
   "execution_count": 4,
   "metadata": {},
   "outputs": [],
   "source": [
    "from joblib import Parallel, delayed\n",
    "import sklearn.linear_model as lm\n",
    "import sklearn.tree as tree\n",
    "from xgboost import XGBRegressor\n",
    "from sklearn import ensemble as ens\n",
    "\n",
    "\n",
    "\n",
    "\n",
    "models = dict()\n",
    "\n",
    "#Linear models\n",
    "\n",
    "cvs= cvlist()\n",
    "models[\"Lasso\"] = lm.Lasso(alpha=lm.LassoCV(cv=cvs).fit(X_trao.iloc[train_ind],Y_trao.iloc[train_ind]).alpha_)\n",
    "cvs= cvlist()\n",
    "models[\"Ridge\"] = lm.Ridge(alpha=lm.RidgeCV(cv=cvs).fit(X_trao.iloc[train_ind],Y_trao.iloc[train_ind]).alpha_)\n",
    "\n",
    "cvs= cvlist()\n",
    "models[\"ElasticNet\"] = lm.ElasticNet(alpha=lm.ElasticNetCV().fit(X_trao.iloc[train_ind],Y_trao.iloc[train_ind]).alpha_,l1_ratio=lm.ElasticNetCV(cv=cvs).fit(X_trao.iloc[train_ind],Y_trao.iloc[train_ind]).l1_ratio_)\n",
    "models[\"OLS\"] = lm.LinearRegression()\n",
    "\n",
    "\n",
    "#Tree based algorithms\n",
    "models[\"DecisionTree\"] = tree.DecisionTreeRegressor(random_state=rs)\n",
    "models[\"Random Forest\"] = ens.RandomForestRegressor(n_jobs=3,random_state=rs)\n",
    "\n",
    "#Other algorithms\n",
    "models[\"GBReg\"] = ens.GradientBoostingRegressor(random_state=rs)\n",
    "models[\"Extratrees\"] = ens.ExtraTreesRegressor(random_state=rs)\n",
    "models[\"XGBoost\"] = XGBRegressor(random_state=rs)\n"
   ]
  },
  {
   "cell_type": "code",
   "execution_count": 5,
   "metadata": {},
   "outputs": [
    {
     "name": "stdout",
     "output_type": "stream",
     "text": [
      "[Parallel(n_jobs=-1)]: Using backend LokyBackend with 8 concurrent workers.\n",
      "[Parallel(n_jobs=-1)]: Done   1 tasks      | elapsed:    4.1s\n",
      "[Parallel(n_jobs=-1)]: Done   2 out of   9 | elapsed:    4.2s remaining:   15.0s\n",
      "[Parallel(n_jobs=-1)]: Done   3 out of   9 | elapsed:    4.2s remaining:    8.6s\n",
      "[Parallel(n_jobs=-1)]: Done   4 out of   9 | elapsed:    4.4s remaining:    5.5s\n",
      "[Parallel(n_jobs=-1)]: Done   5 out of   9 | elapsed:    5.0s remaining:    3.9s\n",
      "[Parallel(n_jobs=-1)]: Done   6 out of   9 | elapsed:   12.2s remaining:    6.1s\n",
      "[Parallel(n_jobs=-1)]: Done   7 out of   9 | elapsed:   14.2s remaining:    4.0s\n",
      "[Parallel(n_jobs=-1)]: Done   9 out of   9 | elapsed:   27.6s remaining:    0.0s\n",
      "[Parallel(n_jobs=-1)]: Done   9 out of   9 | elapsed:   27.6s finished\n"
     ]
    }
   ],
   "source": [
    "from joblib import Parallel, delayed\n",
    "\n",
    "name_list = list()\n",
    "model_list = list()\n",
    "\n",
    "for name_m, model in models.items():\n",
    "    name_list.append(name_m)\n",
    "    model_list.append(model)\n",
    "out=Parallel(n_jobs=-1,verbose=100)(delayed(evalmodel)(model,X_trao,Y_trao) for model in model_list)\n",
    "\n",
    "\n"
   ]
  },
  {
   "cell_type": "code",
   "execution_count": 6,
   "metadata": {
    "scrolled": true
   },
   "outputs": [
    {
     "data": {
      "image/png": "[encoded data removed]",
      "text/plain": [
       "<Figure size 432x288 with 1 Axes>"
      ]
     },
     "metadata": {
      "needs_background": "light"
     },
     "output_type": "display_data"
    }
   ],
   "source": [
    "mae=pd.Series([1,2,3,4,5],name=\"Fold\").reset_index(drop=True)\n",
    "rmse=pd.Series([1,2,3,4,5],name=\"Fold\").reset_index(drop=True)\n",
    "results=dict()\n",
    "\n",
    "for i in range(len(model_list)):\n",
    "    results[name_list[i]]=out[i]\n",
    "\n",
    "for name_m, tres in results.items():\n",
    "    \n",
    "    mae=pd.concat([mae.reset_index(drop=True), pd.Series(tres[0],name=name_m).reset_index(drop=True),],axis=1)\n",
    "    rmse=pd.concat([rmse.reset_index(drop=True), pd.Series(tres[1],name=name_m).reset_index(drop=True)],axis=1)\n",
    "    \n",
    "#mae = pd.melt(mae)\n",
    "mae = pd.melt(mae,id_vars=\"Fold\")\n",
    "mae.columns=[\"Fold\",\"model\",\"MAE\"]\n",
    "mae[\"MAE\"] = pd.to_numeric(mae[\"MAE\"])\n",
    "\n",
    "rmse = pd.melt(rmse,id_vars=\"Fold\")\n",
    "#rmse = pd.melt(rmse)\n",
    "rmse.columns=[\"Fold\",\"model\",\"RMSE\"]\n",
    "rmse[\"RMSE\"] = pd.to_numeric(rmse[\"RMSE\"])\n",
    "\n",
    "ranking= rmse.groupby('model').mean().sort_values(\"RMSE\", ascending=False)\n",
    "\n",
    "\n",
    "res=mae.merge(rmse,on=[\"model\",\"Fold\"])\n",
    "res = pd.melt(res,[\"model\",\"Fold\"])\n",
    "res.columns=[\"model\",\"Fold\",\"method\",\"score\"]\n",
    "ax= sns.barplot(y=\"model\",x=\"score\",hue=\"method\",data=res, order=ranking.index,palette=\"magma\",capsize=.2,ci=None)\n",
    "ax.set(ylabel=\"Model\",xlabel=\"Cross-validation Score\")\n",
    "ax.legend(title='Method')\n",
    "plt.savefig(\"C:/Users/Zozi/Documents/rae/Python/Out/Default_models_trao.png\",dpi=300)\n",
    "plt.show()"
   ]
  },
  {
   "cell_type": "markdown",
   "metadata": {},
   "source": [
    "Based on this, we can clearly conclude that tree-based ensemble methods outperform linear and SVR methods."
   ]
  },
  {
   "cell_type": "code",
   "execution_count": 71,
   "metadata": {},
   "outputs": [],
   "source": [
    "base_scores=res[res[\"method\"]==\"RMSE\"].groupby([\"model\"]).mean().sort_values(\"score\")"
   ]
  },
  {
   "cell_type": "code",
   "execution_count": 254,
   "metadata": {},
   "outputs": [],
   "source": [
    "i=0\n",
    "datasets=list()\n",
    "for Extbase in (Extbase_sum,Extbase_max):\n",
    "    datasets.append(dict())\n",
    "    lvl1cols = Extbase.columns.str.contains(\"lvl1\")\n",
    "    pca1 = PCA(n_components=\"mle\", svd_solver='auto')\n",
    "    pcabase1 = pd.concat([Extbase,pd.DataFrame(pca1.fit_transform(Extbase.loc[:,lvl1cols]))],axis=1)\n",
    "    pcadf1 = pd.DataFrame(pca1.fit_transform(Extbase.loc[:,lvl1cols]))\n",
    "    pcadf1.columns=[\"pcalevel1\"+str(i) for i in range(1, pcadf1.shape[1] + 1)]\n",
    "\n",
    "    lvl2cols = Extbase.columns.str.contains(\"lvl2\")\n",
    "    pca2 = PCA(n_components=\"mle\", svd_solver='auto')\n",
    "    pcabase2 = pd.concat([Extbase,pd.DataFrame(pca2.fit_transform(Extbase.loc[:,lvl2cols]))],axis=1)\n",
    "    pcadf2 = pd.DataFrame(pca2.fit_transform(Extbase.loc[:,lvl2cols]))\n",
    "    pcadf2.columns=[\"pcalevel2\"+str(i) for i in range(1, pcadf2.shape[1] + 1)]\n",
    "\n",
    "    lvl3cols = Extbase.columns.str.contains(\"lvl3\")\n",
    "    pca3 = PCA(n_components=\"mle\", svd_solver='auto')\n",
    "    pcabase3 = pd.concat([Extbase,pd.DataFrame(pca3.fit_transform(Extbase.loc[:,lvl3cols]))],axis=1)\n",
    "    pcadf3 = pd.DataFrame(pca3.fit_transform(Extbase.loc[:,lvl3cols]))\n",
    "    pcadf3.columns=[\"pcalevel3\"+str(i) for i in range(1, pcadf3.shape[1] + 1)]\n",
    "\n",
    "    lvlcols = Extbase.columns.str.contains(\"lvl\")\n",
    "    pcalvl = PCA(n_components=\"mle\", svd_solver='auto')\n",
    "    pcabaselvl = pd.concat([Extbase,pd.DataFrame(pcalvl.fit_transform(Extbase.loc[:,lvlcols]))],axis=1)\n",
    "\n",
    "    extracols = Extbase.columns.str.contains(\"lvl\")\n",
    "    pcaextra = PCA(n_components=\"mle\", svd_solver='auto')\n",
    "    pcabaseextra = pd.concat([Extbase,pd.DataFrame(pcaextra.fit_transform(Extbase.loc[:,extracols]))],axis=1)\n",
    "    pcadfextra = pd.DataFrame(pca3.fit_transform(Extbase.loc[:,extracols]))\n",
    "    pcadfextra.columns=[\"pcaext\"+str(i) for i in range(1, pcadfextra.shape[1] + 1)]\n",
    "    \n",
    "    lvlextracols = Extbase.columns.str.contains(\"lvl|extra\")\n",
    "    pcalvlextra = PCA(n_components=\"mle\", svd_solver='auto')\n",
    "    pcalvlextra = pd.concat([Extbase,pd.DataFrame(pcalvlextra.fit_transform(Extbase.loc[:,lvlextracols]))],axis=1)\n",
    "    \n",
    "    pcabaselvl12 = pd.concat([Extbase,pd.DataFrame(pca3.fit_transform(Extbase.loc[:,lvl3cols]))])\n",
    "    \n",
    "    \n",
    "    datasets[i][\"Trao\"]=X_trao\n",
    "    datasets[i][\"full\"]=Extbase\n",
    "    datasets[i][\"lvl2\"]=Extbase.loc[:,~Extbase.columns.to_series().astype(str).str.contains(\"lvl1|lvl3\")]\n",
    "    datasets[i][\"lvl3\"]=Extbase.loc[:,~Extbase.columns.to_series().astype(str).str.contains(\"lvl1|lvl2\")]\n",
    "    datasets[i][\"lvl1_noext\"]=Extbase.loc[:,~Extbase.columns.to_series().astype(str).str.contains(\"lvl2|lvl3|extra\")]\n",
    "    datasets[i][\"lvl2_noext\"]=Extbase.loc[:,~Extbase.columns.to_series().astype(str).str.contains(\"lvl1|lvl3|extra\")]\n",
    "    datasets[i][\"lvl3_noext\"]=Extbase.loc[:,~Extbase.columns.to_series().astype(str).str.contains(\"lvl1|lvl2|extra\")]\n",
    "    datasets[i][\"lvl1+lvl2pca\"]=pcabase2.loc[:,~pcabase2.columns.to_series().astype(str).str.contains(\"lvl2|lvl3\")]\n",
    "    datasets[i][\"lvl3+lvl2pca\"]=pcabase2.loc[:,~pcabase2.columns.to_series().astype(str).str.contains(\"lvl2|lvl1\")]\n",
    "    datasets[i][\"lvl1+lvl3pca\"]=pcabase3.loc[:,~pcabase3.columns.to_series().astype(str).str.contains(\"lvl3|lvl2\")]\n",
    "    datasets[i][\"lvl2+lvl3pca\"]=pcabase3.loc[:,~pcabase3.columns.to_series().astype(str).str.contains(\"lvl3|lvl1\")]\n",
    "    datasets[i][\"lvl1pca\"]=pcabase1.loc[:,~pcabase1.columns.to_series().astype(str).str.contains(\"lvl\")]\n",
    "    datasets[i][\"lvl2pca\"]=pcabase2.loc[:,~pcabase2.columns.to_series().astype(str).str.contains(\"lvl\")]\n",
    "    datasets[i][\"lvl3pca\"]=pcabase3.loc[:,~pcabase3.columns.to_series().astype(str).str.contains(\"lvl\")]\n",
    "    datasets[i][\"lvl1pca_noext\"]=pcabase1.loc[:,~pcabase1.columns.to_series().astype(str).str.contains(\"lvl|extra\")]\n",
    "    datasets[i][\"lvl2pca_noext\"]=pcabase2.loc[:,~pcabase2.columns.to_series().astype(str).str.contains(\"lvl|extra\")]\n",
    "    datasets[i][\"lvl3pca_noext\"]=pcabase3.loc[:,~pcabase3.columns.to_series().astype(str).str.contains(\"lvl|extra\")]\n",
    "    datasets[i][\"fulllvlpca\"]=pcabaselvl.loc[:,~pcabaselvl.columns.to_series().astype(str).str.contains(\"lvl\")]\n",
    "    datasets[i][\"fulllvlpca_noext\"]=pcabaselvl.loc[:,~pcabaselvl.columns.to_series().astype(str).str.contains(\"lvl|extra\")]\n",
    "    datasets[i][\"extrapca-nolevel\"]=pcabaseextra.loc[:,~pcabaseextra.columns.to_series().astype(str).str.contains(\"extra|lvl\")]\n",
    "    datasets[i][\"extrapca-lvl1\"]=pcabaseextra.loc[:,~pcabaseextra.columns.to_series().astype(str).str.contains(\"extra|lvl2|lvl3\")]\n",
    "    datasets[i][\"extrapca-lvl2\"]=pcabaseextra.loc[:,~pcabaseextra.columns.to_series().astype(str).str.contains(\"extra|lvl1|lvl3\")]\n",
    "    datasets[i][\"extrapca-lvl3\"]=pcabaseextra.loc[:,~pcabaseextra.columns.to_series().astype(str).str.contains(\"extra|lvl2|lvl1\")]\n",
    "    datasets[i][\"fullpca\"]=pcalvlextra.loc[:,~pcalvlextra.columns.to_series().astype(str).str.contains(\"extra|lvl\")]\n",
    "    datasets[i][\"lvl1pca+lvl2pca\"]=pd.concat([Extbase.loc[:,~Extbase.columns.to_series().astype(str).str.contains(\"lvl\")],pcadf1,pcadf2],axis=1)\n",
    "    datasets[i][\"lvl3pca+lvl2pca\"]=pd.concat([Extbase.loc[:,~Extbase.columns.to_series().astype(str).str.contains(\"lvl\")],pcadf2,pcadf3],axis=1)\n",
    "    datasets[i][\"lvl1pca+lvl3pca\"]=pd.concat([Extbase.loc[:,~Extbase.columns.to_series().astype(str).str.contains(\"lvl\")],pcadf1,pcadf3],axis=1)\n",
    "    datasets[i][\"allseplvlpca\"]=pd.concat([Extbase.loc[:,~Extbase.columns.to_series().astype(str).str.contains(\"lvl\")],pcadf1,pcadf2,pcadf3],axis=1)\n",
    "    datasets[i][\"allsepfullpca\"]=pd.concat([Extbase.loc[:,~Extbase.columns.to_series().astype(str).str.contains(\"lvl|extra\")],pcadf1,pcadf2,pcadf3,pcadfextra],axis=1)\n",
    "    datasets[i][\"lvl1pca+extpca\"]=pd.concat([pcabase1.loc[:,~pcabase1.columns.to_series().astype(str).str.contains(\"lvl|extra\")],pcadfextra],axis=1)\n",
    "    datasets[i][\"lvl2pca+extpca\"]=pd.concat([pcabase2.loc[:,~pcabase2.columns.to_series().astype(str).str.contains(\"lvl|extra\")],pcadfextra],axis=1)\n",
    "    datasets[i][\"lvl3pca+extpca\"]=pd.concat([pcabase3.loc[:,~pcabase3.columns.to_series().astype(str).str.contains(\"lvl|extra\")],pcadfextra],axis=1)\n",
    "    i+=1\n",
    "ogsets=datasets\n",
    "for ind, dset in datasets[0].items():\n",
    "    xnames=dset.columns\n",
    "    scaler_x = preprocessing.StandardScaler().fit(dset)\n",
    "    datasets[0][ind] = pd.DataFrame(scaler_x.transform(dset),columns=xnames)\n",
    "for ind, dset in datasets[1].items():\n",
    "    xnames=dset.columns\n",
    "    scaler_x = preprocessing.StandardScaler().fit(dset)\n",
    "    if ind ==\"lvl1_noext\": winscaler=scaler_x\n",
    "    datasets[1][ind] = pd.DataFrame(scaler_x.transform(dset),columns=xnames)"
   ]
  },
  {
   "cell_type": "code",
   "execution_count": 73,
   "metadata": {},
   "outputs": [],
   "source": [
    "models2=dict()\n",
    "models2[\"Random Forest\"] = ens.RandomForestRegressor(n_jobs=3,random_state=rs)\n",
    "models2[\"GBReg\"] = ens.GradientBoostingRegressor(random_state=rs)\n",
    "models2[\"Extratrees\"] = ens.ExtraTreesRegressor(random_state=rs,n_jobs=6)\n",
    "models2[\"XGBoost\"] = XGBRegressor(n_jobs=3,random_state=rs)\n",
    "#models2[\"OptXGBoost\"] = XGBRegressor(subsample= 0.8,\n",
    "# reg_lambda= 1.2,\n",
    "# gamma= 0.5,\n",
    "# n_estimators= 200,\n",
    "# max_depth= 6,\n",
    "# colsample_bytree= 1,\n",
    "# learning_rate= 0.25,\n",
    "# reg_alpha= 0.1, n_jobs=3)\n",
    "\n",
    "mnames=list()\n",
    "for key, model in models2.items():\n",
    "    mnames.append(key)"
   ]
  },
  {
   "cell_type": "code",
   "execution_count": 74,
   "metadata": {},
   "outputs": [
    {
     "name": "stdout",
     "output_type": "stream",
     "text": [
      "Stored 'mxdresults_max' (dict)\n",
      "Stored 'mxdresults_sum' (dict)\n"
     ]
    }
   ],
   "source": [
    "### ModelxDataset permutations\n",
    "mxdresults_sum=dict()\n",
    "for m_key, model in models2.items():\n",
    "    mxdresults_sum[m_key] = dict()\n",
    "    for key, X_set in datasets[0].items():\n",
    "        output=evalmodel(model,X_set,Y_Ext)\n",
    "        mxdresults_sum[m_key][key]=dict()\n",
    "        mxdresults_sum[m_key][key][\"dataset\"]=X_set\n",
    "        mxdresults_sum[m_key][key][\"MAE\"]=output[0]\n",
    "        mxdresults_sum[m_key][key][\"RMSE\"]=output[1]\n",
    "\n",
    "mxdresults_max=dict()\n",
    "for m_key, model in models2.items():\n",
    "    mxdresults_max[m_key] = dict()\n",
    "    for key, X_set in datasets[1].items():\n",
    "        output=evalmodel(model,X_set,Y_Ext)\n",
    "        mxdresults_max[m_key][key]=dict()\n",
    "        mxdresults_max[m_key][key][\"dataset\"]=X_set\n",
    "        mxdresults_max[m_key][key][\"MAE\"]=output[0]\n",
    "        mxdresults_max[m_key][key][\"RMSE\"]=output[1]\n",
    "\n",
    "%store mxdresults_max\n",
    "%store mxdresults_sum"
   ]
  },
  {
   "cell_type": "code",
   "execution_count": 133,
   "metadata": {},
   "outputs": [
    {
     "data": {
      "image/png": "[encoded data removed]",
      "text/plain": [
       "<Figure size 576x432 with 3 Axes>"
      ]
     },
     "metadata": {
      "needs_background": "light"
     },
     "output_type": "display_data"
    },
    {
     "name": "stdout",
     "output_type": "stream",
     "text": [
      "Stored 'mxddf' (DataFrame)\n",
      "Stored 'mxddf_m' (DataFrame)\n"
     ]
    }
   ],
   "source": [
    "###get results into table form\n",
    "%store -r mxdresults_max\n",
    "%store -r mxdresults_sum\n",
    "\n",
    "\n",
    "mxddf_m=pd.DataFrame(index=list(datasets[1].keys()))\n",
    "for m_key, sets in mxdresults_max.items():\n",
    "    mxddf_m=pd.concat([mxddf_m,pd.DataFrame.from_dict(sets).transpose()[\"RMSE\"]],axis=1)\n",
    "    prev_cols=list(mxddf_m.columns)\n",
    "    prev_cols[-1]=m_key\n",
    "    mxddf_m.columns=prev_cols\n",
    "    \n",
    "mxddf_m = mxddf_m.applymap(np.mean)\n",
    "mxddf_m[\"means\"]=mxddf_m.mean(axis=1)\n",
    "mxddf_m=mxddf_m.sort_values(\"means\").drop(\"means\",axis=1)\n",
    "mxddf_m=mxddf_m.reindex(mxddf_m.mean().sort_values(ascending=False).index, axis=1)\n",
    "\n",
    "\n",
    "\n",
    "mxddf=pd.DataFrame(index=list(datasets[0].keys()))\n",
    "for m_key, sets in mxdresults_sum.items():\n",
    "    mxddf=pd.concat([mxddf,pd.DataFrame.from_dict(sets).transpose()[\"RMSE\"]],axis=1)\n",
    "    prev_cols=list(mxddf.columns)\n",
    "    prev_cols[-1]=m_key\n",
    "    mxddf.columns=prev_cols\n",
    "    \n",
    "mxddf = mxddf.applymap(np.mean)\n",
    "mxddf[\"means\"]=mxddf.mean(axis=1)\n",
    "mxddf=mxddf.reindex(mxddf_m.index,axis=0)\n",
    "mxddf=mxddf.reindex(mxddf_m.mean().sort_values(ascending=False).index, axis=1)\n",
    "\n",
    "\n",
    "\n",
    "\n",
    "\n",
    "\n",
    "\n",
    "#plt.figure(num=None, figsize=(8, 4), dpi=300, facecolor='w', edgecolor='k')\n",
    "f, (ax1, ax2) = plt.subplots(2, 1, sharex=True, figsize=(8,6))\n",
    "sns.heatmap(mxddf_m.transpose().rename({\"Trao\":\"Baseline\"},axis=1),ax=ax1,cmap=\"magma_r\",square=True,linewidths=.5,cbar=False,vmin=2.8,vmax=4.4)\n",
    "sns.heatmap(mxddf.transpose().rename({\"Trao\":\"Baseline\"},axis=1),ax=ax2,cmap=\"magma_r\",square=True,linewidths=.5,cbar_kws={\"orientation\": \"horizontal\",\"pad\":0.1,\"label\":\"CV-RMSE\"},vmin=2.8,vmax=4.4)\n",
    "ax2.xaxis.tick_top()\n",
    "ax2.xaxis.set_label_position('top')\n",
    "ax1.set_title(\"Binary encoding\")\n",
    "ax2.set_title(\"Cumulative encoding\",y=-0.375)\n",
    "plt.sca(ax2)\n",
    "plt.xticks(rotation=90,verticalalignment=\"center\",position=(0,1.85))\n",
    "\n",
    "\n",
    "plt.savefig(\"C:/Users/Zozi/Documents/rae/Python/Out/mxd_max.png\",dpi=300)\n",
    "plt.show()\n",
    "%store mxddf\n",
    "%store mxddf_m"
   ]
  },
  {
   "cell_type": "code",
   "execution_count": 132,
   "metadata": {},
   "outputs": [
    {
     "data": {
      "text/html": [
       "<div>\n",
       "<style scoped>\n",
       "    .dataframe tbody tr th:only-of-type {\n",
       "        vertical-align: middle;\n",
       "    }\n",
       "\n",
       "    .dataframe tbody tr th {\n",
       "        vertical-align: top;\n",
       "    }\n",
       "\n",
       "    .dataframe thead th {\n",
       "        text-align: right;\n",
       "    }\n",
       "</style>\n",
       "<table border=\"1\" class=\"dataframe\">\n",
       "  <thead>\n",
       "    <tr style=\"text-align: right;\">\n",
       "      <th></th>\n",
       "      <th>Random Forest</th>\n",
       "      <th>XGBoost</th>\n",
       "      <th>GBReg</th>\n",
       "      <th>Extratrees</th>\n",
       "    </tr>\n",
       "  </thead>\n",
       "  <tbody>\n",
       "    <tr>\n",
       "      <th>lvl2_noext</th>\n",
       "      <td>3.154682</td>\n",
       "      <td>3.054534</td>\n",
       "      <td>2.993769</td>\n",
       "      <td>3.079867</td>\n",
       "    </tr>\n",
       "    <tr>\n",
       "      <th>Trao</th>\n",
       "      <td>3.180078</td>\n",
       "      <td>3.084742</td>\n",
       "      <td>2.945957</td>\n",
       "      <td>3.261050</td>\n",
       "    </tr>\n",
       "    <tr>\n",
       "      <th>lvl2</th>\n",
       "      <td>3.171099</td>\n",
       "      <td>3.137116</td>\n",
       "      <td>2.972129</td>\n",
       "      <td>3.193362</td>\n",
       "    </tr>\n",
       "    <tr>\n",
       "      <th>lvl1_noext</th>\n",
       "      <td>3.177756</td>\n",
       "      <td>3.237553</td>\n",
       "      <td>2.950197</td>\n",
       "      <td>3.192106</td>\n",
       "    </tr>\n",
       "    <tr>\n",
       "      <th>lvl1pca_noext</th>\n",
       "      <td>3.263255</td>\n",
       "      <td>3.260782</td>\n",
       "      <td>3.059528</td>\n",
       "      <td>3.054497</td>\n",
       "    </tr>\n",
       "    <tr>\n",
       "      <th>lvl1pca</th>\n",
       "      <td>3.242473</td>\n",
       "      <td>3.179356</td>\n",
       "      <td>3.057969</td>\n",
       "      <td>3.183771</td>\n",
       "    </tr>\n",
       "    <tr>\n",
       "      <th>lvl2pca_noext</th>\n",
       "      <td>3.346343</td>\n",
       "      <td>3.367504</td>\n",
       "      <td>3.211092</td>\n",
       "      <td>2.984212</td>\n",
       "    </tr>\n",
       "    <tr>\n",
       "      <th>lvl1pca+lvl2pca</th>\n",
       "      <td>3.403548</td>\n",
       "      <td>3.351060</td>\n",
       "      <td>3.164264</td>\n",
       "      <td>3.067705</td>\n",
       "    </tr>\n",
       "    <tr>\n",
       "      <th>full</th>\n",
       "      <td>3.287600</td>\n",
       "      <td>3.225573</td>\n",
       "      <td>3.052166</td>\n",
       "      <td>3.421771</td>\n",
       "    </tr>\n",
       "    <tr>\n",
       "      <th>lvl2pca</th>\n",
       "      <td>3.383192</td>\n",
       "      <td>3.379104</td>\n",
       "      <td>3.205298</td>\n",
       "      <td>3.163528</td>\n",
       "    </tr>\n",
       "    <tr>\n",
       "      <th>lvl3_noext</th>\n",
       "      <td>3.326685</td>\n",
       "      <td>3.226118</td>\n",
       "      <td>3.179179</td>\n",
       "      <td>3.407986</td>\n",
       "    </tr>\n",
       "    <tr>\n",
       "      <th>lvl1+lvl2pca</th>\n",
       "      <td>3.398667</td>\n",
       "      <td>3.382405</td>\n",
       "      <td>3.173274</td>\n",
       "      <td>3.298865</td>\n",
       "    </tr>\n",
       "    <tr>\n",
       "      <th>lvl3</th>\n",
       "      <td>3.348420</td>\n",
       "      <td>3.301934</td>\n",
       "      <td>3.251449</td>\n",
       "      <td>3.366961</td>\n",
       "    </tr>\n",
       "    <tr>\n",
       "      <th>lvl1pca+extpca</th>\n",
       "      <td>3.516793</td>\n",
       "      <td>3.298333</td>\n",
       "      <td>3.321543</td>\n",
       "      <td>3.140605</td>\n",
       "    </tr>\n",
       "    <tr>\n",
       "      <th>extrapca-nolevel</th>\n",
       "      <td>3.496949</td>\n",
       "      <td>3.307383</td>\n",
       "      <td>3.371621</td>\n",
       "      <td>3.135584</td>\n",
       "    </tr>\n",
       "    <tr>\n",
       "      <th>fulllvlpca_noext</th>\n",
       "      <td>3.496949</td>\n",
       "      <td>3.307383</td>\n",
       "      <td>3.371621</td>\n",
       "      <td>3.135584</td>\n",
       "    </tr>\n",
       "    <tr>\n",
       "      <th>extrapca-lvl2</th>\n",
       "      <td>3.511579</td>\n",
       "      <td>3.329748</td>\n",
       "      <td>3.377875</td>\n",
       "      <td>3.117208</td>\n",
       "    </tr>\n",
       "    <tr>\n",
       "      <th>extrapca-lvl1</th>\n",
       "      <td>3.528361</td>\n",
       "      <td>3.329168</td>\n",
       "      <td>3.362100</td>\n",
       "      <td>3.163092</td>\n",
       "    </tr>\n",
       "    <tr>\n",
       "      <th>fulllvlpca</th>\n",
       "      <td>3.480763</td>\n",
       "      <td>3.344447</td>\n",
       "      <td>3.384597</td>\n",
       "      <td>3.212635</td>\n",
       "    </tr>\n",
       "    <tr>\n",
       "      <th>lvl2pca+extpca</th>\n",
       "      <td>3.475032</td>\n",
       "      <td>3.484242</td>\n",
       "      <td>3.373608</td>\n",
       "      <td>3.168639</td>\n",
       "    </tr>\n",
       "    <tr>\n",
       "      <th>extrapca-lvl3</th>\n",
       "      <td>3.517964</td>\n",
       "      <td>3.430264</td>\n",
       "      <td>3.351918</td>\n",
       "      <td>3.259922</td>\n",
       "    </tr>\n",
       "    <tr>\n",
       "      <th>lvl3+lvl2pca</th>\n",
       "      <td>3.432911</td>\n",
       "      <td>3.618177</td>\n",
       "      <td>3.275735</td>\n",
       "      <td>3.339975</td>\n",
       "    </tr>\n",
       "    <tr>\n",
       "      <th>lvl3pca+extpca</th>\n",
       "      <td>3.602087</td>\n",
       "      <td>3.471447</td>\n",
       "      <td>3.409578</td>\n",
       "      <td>3.214347</td>\n",
       "    </tr>\n",
       "    <tr>\n",
       "      <th>lvl1+lvl3pca</th>\n",
       "      <td>3.618446</td>\n",
       "      <td>3.409952</td>\n",
       "      <td>3.436790</td>\n",
       "      <td>3.252241</td>\n",
       "    </tr>\n",
       "    <tr>\n",
       "      <th>lvl3pca</th>\n",
       "      <td>3.648395</td>\n",
       "      <td>3.406333</td>\n",
       "      <td>3.444965</td>\n",
       "      <td>3.239025</td>\n",
       "    </tr>\n",
       "    <tr>\n",
       "      <th>lvl2+lvl3pca</th>\n",
       "      <td>3.654095</td>\n",
       "      <td>3.391265</td>\n",
       "      <td>3.451328</td>\n",
       "      <td>3.271319</td>\n",
       "    </tr>\n",
       "    <tr>\n",
       "      <th>lvl3pca_noext</th>\n",
       "      <td>3.660896</td>\n",
       "      <td>3.498989</td>\n",
       "      <td>3.412448</td>\n",
       "      <td>3.231698</td>\n",
       "    </tr>\n",
       "    <tr>\n",
       "      <th>lvl1pca+lvl3pca</th>\n",
       "      <td>3.638966</td>\n",
       "      <td>3.504369</td>\n",
       "      <td>3.437866</td>\n",
       "      <td>3.282850</td>\n",
       "    </tr>\n",
       "    <tr>\n",
       "      <th>allsepfullpca</th>\n",
       "      <td>3.637268</td>\n",
       "      <td>3.585700</td>\n",
       "      <td>3.479908</td>\n",
       "      <td>3.190575</td>\n",
       "    </tr>\n",
       "    <tr>\n",
       "      <th>allseplvlpca</th>\n",
       "      <td>3.684420</td>\n",
       "      <td>3.598737</td>\n",
       "      <td>3.418226</td>\n",
       "      <td>3.264453</td>\n",
       "    </tr>\n",
       "    <tr>\n",
       "      <th>fullpca</th>\n",
       "      <td>3.602851</td>\n",
       "      <td>3.809788</td>\n",
       "      <td>3.555389</td>\n",
       "      <td>3.155118</td>\n",
       "    </tr>\n",
       "    <tr>\n",
       "      <th>lvl3pca+lvl2pca</th>\n",
       "      <td>3.659657</td>\n",
       "      <td>3.817498</td>\n",
       "      <td>3.388479</td>\n",
       "      <td>3.270632</td>\n",
       "    </tr>\n",
       "  </tbody>\n",
       "</table>\n",
       "</div>"
      ],
      "text/plain": [
       "                  Random Forest   XGBoost     GBReg  Extratrees\n",
       "lvl2_noext             3.154682  3.054534  2.993769    3.079867\n",
       "Trao                   3.180078  3.084742  2.945957    3.261050\n",
       "lvl2                   3.171099  3.137116  2.972129    3.193362\n",
       "lvl1_noext             3.177756  3.237553  2.950197    3.192106\n",
       "lvl1pca_noext          3.263255  3.260782  3.059528    3.054497\n",
       "lvl1pca                3.242473  3.179356  3.057969    3.183771\n",
       "lvl2pca_noext          3.346343  3.367504  3.211092    2.984212\n",
       "lvl1pca+lvl2pca        3.403548  3.351060  3.164264    3.067705\n",
       "full                   3.287600  3.225573  3.052166    3.421771\n",
       "lvl2pca                3.383192  3.379104  3.205298    3.163528\n",
       "lvl3_noext             3.326685  3.226118  3.179179    3.407986\n",
       "lvl1+lvl2pca           3.398667  3.382405  3.173274    3.298865\n",
       "lvl3                   3.348420  3.301934  3.251449    3.366961\n",
       "lvl1pca+extpca         3.516793  3.298333  3.321543    3.140605\n",
       "extrapca-nolevel       3.496949  3.307383  3.371621    3.135584\n",
       "fulllvlpca_noext       3.496949  3.307383  3.371621    3.135584\n",
       "extrapca-lvl2          3.511579  3.329748  3.377875    3.117208\n",
       "extrapca-lvl1          3.528361  3.329168  3.362100    3.163092\n",
       "fulllvlpca             3.480763  3.344447  3.384597    3.212635\n",
       "lvl2pca+extpca         3.475032  3.484242  3.373608    3.168639\n",
       "extrapca-lvl3          3.517964  3.430264  3.351918    3.259922\n",
       "lvl3+lvl2pca           3.432911  3.618177  3.275735    3.339975\n",
       "lvl3pca+extpca         3.602087  3.471447  3.409578    3.214347\n",
       "lvl1+lvl3pca           3.618446  3.409952  3.436790    3.252241\n",
       "lvl3pca                3.648395  3.406333  3.444965    3.239025\n",
       "lvl2+lvl3pca           3.654095  3.391265  3.451328    3.271319\n",
       "lvl3pca_noext          3.660896  3.498989  3.412448    3.231698\n",
       "lvl1pca+lvl3pca        3.638966  3.504369  3.437866    3.282850\n",
       "allsepfullpca          3.637268  3.585700  3.479908    3.190575\n",
       "allseplvlpca           3.684420  3.598737  3.418226    3.264453\n",
       "fullpca                3.602851  3.809788  3.555389    3.155118\n",
       "lvl3pca+lvl2pca        3.659657  3.817498  3.388479    3.270632"
      ]
     },
     "execution_count": 132,
     "metadata": {},
     "output_type": "execute_result"
    }
   ],
   "source": [
    "mxddf_m"
   ]
  },
  {
   "cell_type": "markdown",
   "metadata": {},
   "source": [
    "Now exploring of dropping variables for the top models can further improve performance.\n",
    "\n",
    "First choose the top 10% of models: (Note this gets rid of random forests)"
   ]
  },
  {
   "cell_type": "code",
   "execution_count": 83,
   "metadata": {},
   "outputs": [],
   "source": [
    "%store -r mxddf\n",
    "%store -r mxddf_m\n",
    "\n",
    "\n",
    "mxddf=mxddf.drop(\"Trao\",axis=0)\n",
    "mxddf_m=mxddf_m.drop(\"Trao\",axis=0)\n",
    "threshold = np.percentile(pd.concat([mxddf,mxddf_m], axis=1),1.75) \n",
    "perc25 = np.percentile(pd.concat([mxddf,mxddf_m], axis=1),1.75)\n",
    "perc75 = np.percentile(pd.concat([mxddf,mxddf_m], axis=1),50)\n",
    "selected = dict()\n",
    "selected[\"sum\"]=mxddf<=threshold\n",
    "selected[\"max\"]=mxddf_m<=threshold\n",
    "combinations = dict()\n",
    "combinations[\"sum\"] = dict()\n",
    "combinations[\"max\"] = dict()\n",
    "for col in selected[\"sum\"]:\n",
    "    if np.sum(selected[\"sum\"][col])>0:\n",
    "        combinations[\"sum\"][col]=selected[\"sum\"].index[selected[\"sum\"][col]].tolist()\n",
    "for col in selected[\"max\"]:\n",
    "    if np.sum(selected[\"max\"][col])>0:\n",
    "        combinations[\"max\"][col]=selected[\"max\"].index[selected[\"max\"][col]].tolist()\n",
    "\n",
    "        \n",
    "selected = dict()\n",
    "selected[\"sum\"]=(mxddf<=perc75)&(mxddf>=perc25)\n",
    "selected[\"max\"]=(mxddf_m<=perc75)&(mxddf_m>=perc25)\n",
    "mid_sample = dict()\n",
    "mid_sample[\"sum\"] = dict()\n",
    "mid_sample[\"max\"] = dict()\n",
    "for col in selected[\"sum\"]:\n",
    "    if np.sum(selected[\"sum\"][col])>0:\n",
    "        mid_sample[\"sum\"][col]=selected[\"sum\"].index[selected[\"sum\"][col]].tolist()\n",
    "for col in selected[\"max\"]:\n",
    "    if np.sum(selected[\"max\"][col])>0:\n",
    "        mid_sample[\"max\"][col]=selected[\"max\"].index[selected[\"max\"][col]].tolist()\n"
   ]
  },
  {
   "cell_type": "code",
   "execution_count": 84,
   "metadata": {},
   "outputs": [],
   "source": [
    "import random\n",
    "random.seed(rs*5)\n",
    "extracombs=pd.DataFrame(mid_sample).applymap(lambda x: random.sample(x,k=1)[0])\n",
    "extracombs[\"max\"]=extracombs[\"sum\"]"
   ]
  },
  {
   "cell_type": "code",
   "execution_count": 85,
   "metadata": {},
   "outputs": [
    {
     "data": {
      "text/plain": [
       "{'sum': {'Extratrees': ['lvl2pca_noext', 'lvl1pca+lvl2pca', 'lvl1pca+extpca']},\n",
       " 'max': {'GBReg': ['lvl2', 'lvl1_noext']}}"
      ]
     },
     "execution_count": 85,
     "metadata": {},
     "output_type": "execute_result"
    }
   ],
   "source": [
    "combinations"
   ]
  },
  {
   "cell_type": "code",
   "execution_count": 86,
   "metadata": {},
   "outputs": [
    {
     "data": {
      "text/html": [
       "<div>\n",
       "<style scoped>\n",
       "    .dataframe tbody tr th:only-of-type {\n",
       "        vertical-align: middle;\n",
       "    }\n",
       "\n",
       "    .dataframe tbody tr th {\n",
       "        vertical-align: top;\n",
       "    }\n",
       "\n",
       "    .dataframe thead th {\n",
       "        text-align: right;\n",
       "    }\n",
       "</style>\n",
       "<table border=\"1\" class=\"dataframe\">\n",
       "  <thead>\n",
       "    <tr style=\"text-align: right;\">\n",
       "      <th></th>\n",
       "      <th>sum</th>\n",
       "      <th>max</th>\n",
       "    </tr>\n",
       "  </thead>\n",
       "  <tbody>\n",
       "    <tr>\n",
       "      <th>Random Forest</th>\n",
       "      <td>lvl1pca_noext</td>\n",
       "      <td>lvl1pca_noext</td>\n",
       "    </tr>\n",
       "    <tr>\n",
       "      <th>XGBoost</th>\n",
       "      <td>lvl2_noext</td>\n",
       "      <td>lvl2_noext</td>\n",
       "    </tr>\n",
       "    <tr>\n",
       "      <th>GBReg</th>\n",
       "      <td>fullpca</td>\n",
       "      <td>fullpca</td>\n",
       "    </tr>\n",
       "    <tr>\n",
       "      <th>Extratrees</th>\n",
       "      <td>lvl1pca+lvl3pca</td>\n",
       "      <td>lvl1pca+lvl3pca</td>\n",
       "    </tr>\n",
       "  </tbody>\n",
       "</table>\n",
       "</div>"
      ],
      "text/plain": [
       "                           sum              max\n",
       "Random Forest    lvl1pca_noext    lvl1pca_noext\n",
       "XGBoost             lvl2_noext       lvl2_noext\n",
       "GBReg                  fullpca          fullpca\n",
       "Extratrees     lvl1pca+lvl3pca  lvl1pca+lvl3pca"
      ]
     },
     "execution_count": 86,
     "metadata": {},
     "output_type": "execute_result"
    }
   ],
   "source": [
    "extracombs"
   ]
  },
  {
   "cell_type": "code",
   "execution_count": 87,
   "metadata": {},
   "outputs": [
    {
     "data": {
      "text/plain": [
       "{'Extratrees_sum_lvl2pca_noext': 2.953793539183086,\n",
       " 'Extratrees_sum_lvl1pca+lvl2pca': 2.96964546725583,\n",
       " 'Extratrees_sum_lvl1pca+extpca': 2.9655188146722753,\n",
       " 'GBReg_max_lvl2': 2.972129390616413,\n",
       " 'GBReg_max_lvl1_noext': 2.9501974400031363,\n",
       " 'Random Forest_sum_lvl1pca_noext': 3.20346956423039,\n",
       " 'Random Forest_max_lvl1pca_noext': 3.26325513389853,\n",
       " 'XGBoost_sum_lvl2_noext': 3.1096593951865446,\n",
       " 'XGBoost_max_lvl2_noext': 3.0545340375116856,\n",
       " 'GBReg_sum_fullpca': 3.0875385624912104,\n",
       " 'GBReg_max_fullpca': 3.555389308175988,\n",
       " 'Extratrees_sum_lvl1pca+lvl3pca': 3.1302331723260823,\n",
       " 'Extratrees_max_lvl1pca+lvl3pca': 3.2828504809678685}"
      ]
     },
     "execution_count": 87,
     "metadata": {},
     "output_type": "execute_result"
    }
   ],
   "source": [
    "import re\n",
    "\n",
    "defaultres=dict()\n",
    "for key in combinations.keys():\n",
    "    for m_key in combinations[key].keys():\n",
    "        for setkey in combinations[key][m_key]:\n",
    "                if (key==\"sum\"):\n",
    "                    defaultres[\"{}_{}_{}\".format(m_key,\"sum\",setkey)]=mxddf.loc[setkey,m_key]\n",
    "                else:\n",
    "                    defaultres[\"{}_{}_{}\".format(m_key,\"max\",setkey)]=mxddf_m.loc[setkey,m_key]\n",
    "for m_key, row in extracombs.iterrows():\n",
    "    defaultres[\"{}_{}_{}\".format(m_key,\"sum\",row[\"sum\"])]=mxddf.loc[row[\"sum\"],m_key]\n",
    "    defaultres[\"{}_{}_{}\".format(m_key,\"max\",row[\"max\"])]=mxddf_m.loc[row[\"max\"],m_key]\n",
    "\n",
    "\n",
    "defaultres\n"
   ]
  },
  {
   "cell_type": "code",
   "execution_count": 88,
   "metadata": {},
   "outputs": [],
   "source": [
    "from skopt.space import Real, Integer, Categorical\n",
    "#Reset models\n",
    "models3= dict()\n",
    "models3[\"Random Forest\"] = ens.RandomForestRegressor\n",
    "models3[\"GBReg\"] = ens.GradientBoostingRegressor\n",
    "models3[\"Extratrees\"] = ens.ExtraTreesRegressor\n",
    "models3[\"XGBoost\"] = XGBRegressor\n",
    "\n",
    "spaces=dict()\n",
    "spacenames = dict()\n",
    "\n",
    "spacenames[\"XGBoost\"] = [\"max_depth\",\"n_estimators\",\"gamma\",\"reg_alpha\",\"reg_lambda\",\"subsample\",\"learning_rate\"]\n",
    "spaces[\"XGBoost\"] = [Integer(name=\"max_depth\",low=2,high=12),\n",
    "             Integer(name=\"n_estimators\",low=200,high=600),\n",
    "             Real(name=\"gamma\",low=0.4,high=0.85),\n",
    "             Real(name=\"reg_alpha\",low=0.05,high=0.65),\n",
    "             Real(name=\"reg_lambda\",low=0.75,high=1),\n",
    "             Real(name=\"subsample\",low=0.75,high=1),\n",
    "             Real(name=\"learning_rate\",low=0.025,high=0.3)]\n",
    "\n",
    "spacenames[\"Extratrees\"] = [\"max_depth\",\"n_estimators\",\"max_samples\",\"min_samples_split\",\"min_samples_leaf\"]\n",
    "spaces[\"Extratrees\"] = [Integer(name=\"max_depth\",low=2,high=35),\n",
    "             Integer(name=\"n_estimators\",low=100,high=1000),\n",
    "             Real(name=\"max_samples\",low=0.7,high=1),\n",
    "             Integer(name=\"min_samples_split\",low=2,high=30),\n",
    "             Integer(name=\"min_samples_leaf\",low=1,high=5)]\n",
    "\n",
    "spacenames[\"GBReg\"] = [\"max_depth\",\"n_estimators\",\"subsample\",\"max_features\",\"min_samples_split\",\"learning_rate\",\"alpha\"]\n",
    "spaces[\"GBReg\"] = [Integer(name=\"max_depth\",low=2,high=8),\n",
    "             Integer(name=\"n_estimators\",low=200,high=1000),\n",
    "             Real(name=\"subsample\",low=0.9,high=1),\n",
    "             Integer(name=\"max_features\",low=2,high=39),\n",
    "             Integer(name=\"min_samples_split\",low=2,high=40),\n",
    "             Real(name=\"learning_rate\",low=0.005,high=0.2),\n",
    "             Real(name=\"alpha\",low=0.75,high=0.975)]\n",
    "\n",
    "spacenames[\"Random Forest\"] = [\"max_depth\",\"n_estimators\",\"max_samples\",\"min_samples_split\",\"bootstrap\",\"min_samples_leaf\"]\n",
    "spaces[\"Random Forest\"] = [Integer(name=\"max_depth\",low=2,high=35),\n",
    "             Integer(name=\"n_estimators\",low=100,high=1000),\n",
    "             Real(name=\"max_samples\",low=0.7,high=1),\n",
    "             Integer(name=\"min_samples_split\",low=2,high=30),\n",
    "             Categorical(name=\"bootstrap\",categories=[False,True]),\n",
    "             Integer(name=\"min_samples_leaf\",low=1,high=5)]\n",
    "\n",
    "\n"
   ]
  },
  {
   "cell_type": "code",
   "execution_count": 89,
   "metadata": {},
   "outputs": [],
   "source": [
    "from skopt import forest_minimize\n",
    "from skopt.utils import use_named_args\n",
    "from functools import partial\n",
    "\n",
    "\n",
    "\n",
    "def compare_opts(model,dset,dimensions,n_calls,minimizer,n_iter=1):\n",
    "    reg=model()\n",
    "    @use_named_args(dimensions)\n",
    "    def objective(**kwargs): \n",
    "        if (model==models3[\"GBReg\"]):\n",
    "            reg.set_params(random_state=rs,**kwargs)\n",
    "        else:\n",
    "            reg.set_params(random_state=rs,n_jobs=3,**kwargs)\n",
    "        output=evalmodel(reg,dset,Y_Ext)\n",
    "        return np.mean(output[1])\n",
    "    \n",
    "    \n",
    "    \n",
    "    \n",
    "    res = [minimizer(objective, dimensions, n_calls=n_calls, random_state=n) for n in range(n_iter)]\n",
    "    return res"
   ]
  },
  {
   "cell_type": "code",
   "execution_count": 91,
   "metadata": {},
   "outputs": [
    {
     "name": "stdout",
     "output_type": "stream",
     "text": [
      "XGBoost finished\n",
      "Extratrees finished\n",
      "GBReg finished\n",
      "Random Forest finished\n"
     ]
    }
   ],
   "source": [
    "itercands = [\"XGBoost\",\"Extratrees\",\"GBReg\", \"Random Forest\"]\n",
    "iterres=dict()\n",
    "for itcand in itercands:\n",
    "    iterres[itcand] = compare_opts(minimizer=partial(forest_minimize, base_estimator=\"ET\"),model=models3[itcand],dset=datasets[1][\"lvl2\"],n_calls=150, dimensions=spaces[itcand])\n",
    "    print(itcand+\" finished\")\n"
   ]
  },
  {
   "cell_type": "code",
   "execution_count": 92,
   "metadata": {},
   "outputs": [],
   "source": [
    "\n",
    "iterscores=dict()\n",
    "for itcand in itercands:\n",
    "    iterscores[itcand]=dict()\n",
    "    iterscores[itcand][\"CVscores\"]=iterres[itcand][0].func_vals\n",
    "    params=[dict(zip(spacenames[itcand],x)) for x in iterres[itcand][0].x_iters]\n",
    "    iterscores[itcand][\"testscores\"]=[evaltest(models3[itcand](random_state=rs,**param),datasets[1][\"Trao\"],Y_Ext)[1] for param in params]\n",
    "    iterscores[itcand][\"mintestrmse\"]=list()\n",
    "    iterscores[itcand][\"mincvscore\"]=list()\n",
    "    iterscores[itcand][\"acttestrmse\"]=list()\n",
    "    for i in range(150):\n",
    "        iterscores[itcand][\"mintestrmse\"].append(min(iterscores[itcand][\"testscores\"][0:i+1]))\n",
    "        iterscores[itcand][\"mincvscore\"].append(min(iterscores[itcand][\"CVscores\"][0:i+1]))\n",
    "        val, idx = min((val, idx) for (idx, val) in enumerate(iterscores[itcand][\"CVscores\"][0:i+1]))\n",
    "        iterscores[itcand][\"acttestrmse\"].append(iterscores[itcand][\"testscores\"][idx])\n"
   ]
  },
  {
   "cell_type": "code",
   "execution_count": 136,
   "metadata": {},
   "outputs": [
    {
     "data": {
      "image/png": "[encoded data removed]",
      "text/plain": [
       "<Figure size 720x504 with 4 Axes>"
      ]
     },
     "metadata": {
      "needs_background": "light"
     },
     "output_type": "display_data"
    }
   ],
   "source": [
    "fig,ax = plt.subplots(2,2,figsize=(10,7))\n",
    "i=0\n",
    "j=0\n",
    "jinc=True\n",
    "\n",
    "for name, row in pd.DataFrame(iterscores).transpose().iterrows():\n",
    "    cvfit=pd.concat([pd.Series(row[\"mincvscore\"],name=\"Best CV RMSE\"),pd.Series(row[\"acttestrmse\"],name=\"Test RMSE of chosen model\"),pd.Series(range(150),name=\"Iterations\")],axis=1)\n",
    "    cvfit=pd.melt(cvfit,\"Iterations\")\n",
    "    if i==0 and j==1:\n",
    "        leg=True\n",
    "    else:\n",
    "        leg=False\n",
    "    \n",
    "    \n",
    "    cvfit.columns = [\"Iterations\",\"Score type\",\"RMSE\"]\n",
    "    sns.lineplot(data=cvfit,y=\"RMSE\",x=\"Iterations\",hue=\"Score type\",palette=\"magma\",ax=ax[i][j],legend=leg)\n",
    "    n=90\n",
    "    if (name in [\"XGBoost\",\"GBReg\"]): n=65\n",
    "    ax[i][j].axvline(x=n,color=\"red\")\n",
    "    ax[i][j].set_title(name)\n",
    "    if i==0 and j==1:\n",
    "        ax[i][j].legend(bbox_to_anchor=(1.0, 1), loc='upper left')\n",
    "    \n",
    "    \n",
    "    if jinc==True:\n",
    "        jinc=False\n",
    "        j+=1\n",
    "    else:\n",
    "        jinc=True\n",
    "        j-=1\n",
    "        i+=1\n",
    "    \n",
    "    \n",
    "    \n",
    "\n",
    "plt.savefig(\"Out/optimisation.png\",dpi=300)  \n",
    "   \n"
   ]
  },
  {
   "cell_type": "code",
   "execution_count": 99,
   "metadata": {},
   "outputs": [
    {
     "name": "stdout",
     "output_type": "stream",
     "text": [
      "XGBoost finished\n",
      "Extratrees finished\n",
      "GBReg finished\n",
      "Random Forest finished\n"
     ]
    }
   ],
   "source": [
    "base_reses=dict()\n",
    "cands=[\"XGBoost\",\"Extratrees\",\"GBReg\",\"Random Forest\"]\n",
    "for cand in cands:\n",
    "    n=90\n",
    "    if (cand in [\"XGBoost\",\"GBReg\"]): n=65\n",
    "    base_reses[cand+\"_trao_opt\"]=compare_opts(minimizer=partial(forest_minimize, base_estimator=\"ET\"),model=models3[cand],dset=X_trao,n_calls=n, dimensions=spaces[cand])\n",
    "    print(cand+\" finished\")"
   ]
  },
  {
   "cell_type": "code",
   "execution_count": 100,
   "metadata": {},
   "outputs": [
    {
     "data": {
      "text/plain": [
       "{'XGBoost_trao_opt': (1.1353122030382994, 2.0888112528679104),\n",
       " 'Extratrees_trao_opt': (1.2279690893091069, 2.2251146079721504),\n",
       " 'GBReg_trao_opt': (1.1111054881839548, 2.1641132754608723),\n",
       " 'Random Forest_trao_opt': (1.2906979801405718, 2.7180515440222504)}"
      ]
     },
     "execution_count": 100,
     "metadata": {},
     "output_type": "execute_result"
    }
   ],
   "source": [
    "testres = dict()\n",
    "testcands = [\"OLS\",\"XGBoost\",\"Extratrees\",\"GBReg\", \"Random Forest\"]\n",
    "\n",
    "for cand, res in base_reses.items():\n",
    "    m=re.search(\"^([a-zA-Z\\s]+)_.+\",cand)\n",
    "    testres[cand]=evaltest(models3[m.group(1)](**dict(zip(spacenames[m.group(1)],res[0].x))),X_trao,Y_Ext)\n",
    "\n",
    "testres"
   ]
  },
  {
   "cell_type": "code",
   "execution_count": 101,
   "metadata": {},
   "outputs": [
    {
     "name": "stdout",
     "output_type": "stream",
     "text": [
      "Extratrees_sum_lvl2pca_noext finished\n",
      "Extratrees_sum_lvl1pca+lvl2pca finished\n",
      "Extratrees_sum_lvl1pca+extpca finished\n",
      "GBReg_max_lvl2 finished\n",
      "GBReg_max_lvl1_noext finished\n"
     ]
    }
   ],
   "source": [
    "reses=dict()\n",
    "for ind, row in pd.DataFrame(combinations).iterrows():\n",
    "    n=90\n",
    "    if (ind in [\"XGBoost\",\"GBReg\"]): n=65\n",
    "    if(row[[\"sum\"]].isna()[\"sum\"]):\n",
    "        ismax=True\n",
    "        for dset in row[\"max\"]:\n",
    "            reses[\"{}_{}_{}\".format(ind,\"max\",dset)]=compare_opts(minimizer=partial(forest_minimize, base_estimator=\"ET\"),model=models3[ind],dset=datasets[ismax][dset],n_calls=n, dimensions=spaces[ind])\n",
    "            print(\"{}_{}_{}\".format(ind,\"max\",dset)+\" finished\")\n",
    "    else:\n",
    "        ismax=False\n",
    "        for dset in row[\"sum\"]:\n",
    "            reses[\"{}_{}_{}\".format(ind,\"sum\",dset)]=compare_opts(minimizer=partial(forest_minimize, base_estimator=\"ET\"),model=models3[ind],dset=datasets[ismax][dset],n_calls=n, dimensions=spaces[ind])\n",
    "            print(\"{}_{}_{}\".format(ind,\"sum\",dset)+\" finished\")"
   ]
  },
  {
   "cell_type": "code",
   "execution_count": 102,
   "metadata": {},
   "outputs": [
    {
     "name": "stdout",
     "output_type": "stream",
     "text": [
      "Random Forest_sum_lvl1pca_noext finished\n",
      "Random Forest_max_lvl1pca_noext finished\n",
      "XGBoost_sum_lvl2_noext finished\n",
      "XGBoost_max_lvl2_noext finished\n",
      "GBReg_sum_fullpca finished\n",
      "GBReg_max_fullpca finished\n",
      "Extratrees_sum_lvl1pca+lvl3pca finished\n",
      "Extratrees_max_lvl1pca+lvl3pca finished\n"
     ]
    }
   ],
   "source": [
    "for ind, row in extracombs.iterrows():\n",
    "    n=90\n",
    "    if (ind in [\"XGBoost\",\"GBReg\"]): n=65\n",
    "    reses[\"{}_{}_{}\".format(ind,\"sum\",row[\"sum\"])]=compare_opts(minimizer=partial(forest_minimize, base_estimator=\"ET\"),model=models3[ind],dset=datasets[0][row[\"sum\"]],n_calls=n, dimensions=spaces[ind])\n",
    "    print(\"{}_{}_{}\".format(ind,\"sum\",row[\"sum\"])+\" finished\")\n",
    "    reses[\"{}_{}_{}\".format(ind,\"max\",row[\"max\"])]=compare_opts(minimizer=partial(forest_minimize, base_estimator=\"ET\"),model=models3[ind],dset=datasets[1][row[\"max\"]],n_calls=n, dimensions=spaces[ind])\n",
    "    print(\"{}_{}_{}\".format(ind,\"max\",row[\"max\"])+\" finished\")"
   ]
  },
  {
   "cell_type": "code",
   "execution_count": 179,
   "metadata": {},
   "outputs": [
    {
     "data": {
      "image/png": "[encoded data removed]",
      "text/plain": [
       "<Figure size 720x432 with 1 Axes>"
      ]
     },
     "metadata": {
      "needs_background": "light"
     },
     "output_type": "display_data"
    }
   ],
   "source": [
    "cvimprovement=dict()\n",
    "cands=[\"XGBoost\",\"Extratrees\",\"GBReg\",\"Random Forest\"]\n",
    "for cand in cands:\n",
    "    cvimprovement[cand+\", Binary, Optimised baseline\"]=(base_scores.loc[cand,\"score\"],base_reses[cand+\"_trao_opt\"][0].fun)\n",
    "for mod, res in reses.items():\n",
    "    cvimprovement[mod]=(defaultres[mod],res[0].fun)\n",
    "\n",
    "cvimprovement=pd.DataFrame(cvimprovement).transpose()\n",
    "\n",
    "\n",
    "cvimprovement.reset_index(inplace=True)\n",
    "cvimprovement.columns=[\"Model\",\"Before optimisation\",\"After optimisation\"]\n",
    "winner=cvimprovement[np.min(cvimprovement[\"After optimisation\"])==cvimprovement[\"After optimisation\"]][\"Model\"].iloc[0]\n",
    "\n",
    "pattern=r\"([a-zA-Z\\s]+)_(s?u?ma?x?)_(.+)\"\n",
    "def repl(m):\n",
    "    if m.group(2)==\"sum\":\n",
    "        tex=\"Cumulative\"\n",
    "    else:\n",
    "        tex=\"Binary\"\n",
    "    return \"{0}, {1}, {2}\".format(m.group(1),tex,m.group(3))\n",
    "cvimprovement[\"Model\"]=cvimprovement[\"Model\"].str.replace(pattern,repl, regex=True)\n",
    "\n",
    "cvimprovement=cvimprovement.sort_values(by=\"After optimisation\",ascending=False)\n",
    "ordering=list(cvimprovement[\"Model\"])\n",
    "cvimprovement=cvimprovement.melt(\"Model\")\n",
    "cvimprovement.columns= [\"Model\",\"Stage\",\"CV RMSE\"]\n",
    "\n",
    "\n",
    "plt.figure(figsize=(10,6))\n",
    "cp=sns.barplot(data=cvimprovement,\n",
    "    x=\"CV RMSE\", y=\"Model\", hue=\"Stage\", palette=\"magma\", order=ordering)\n",
    "#cp.set_title(\"Hyperparameter Optimisation results\",pad=20)\n",
    "#ttl.set_position([.5, 1.05])\n",
    "cp.legend(loc=\"upper left\",bbox_to_anchor=(1, 1))\n",
    "#cp.axes[0][0].legend(bbox_to_anchor=(1, 1), loc='upper left',legend_out=True)\n",
    "plt.savefig(\"Out/Hypoptres.png\",dpi=300)\n",
    "plt.show()"
   ]
  },
  {
   "cell_type": "code",
   "execution_count": 183,
   "metadata": {},
   "outputs": [],
   "source": [
    "testres = dict()\n",
    "\n",
    "\n",
    "for cand, res in base_reses.items():\n",
    "    m=re.search(\"^([a-zA-Z\\s]+)_.+\",cand)\n",
    "    testres[\"{}, {}, {}\".format(m.group(1),\"Binary\",\"Optimised baseline\")]=evaltest(models3[m.group(1)](**dict(zip(spacenames[m.group(1)],res[0].x))),X_trao,Y_Ext)\n",
    "\n",
    "    \n",
    "m=re.search(\"^([a-zA-Z\\s]+)_(s?u?ma?x?)_(.+)\",winner)\n",
    "ismax=False\n",
    "pattern=r\"([a-zA-Z\\s]+)_(s?u?ma?x?)_(.+)\"\n",
    "def repl(m):\n",
    "    if m.group(2)==\"sum\":\n",
    "        tex=\"Cumulative\"\n",
    "    else:\n",
    "        tex=\"Binary\"\n",
    "    return \"{0}, {1}, {2}\".format(m.group(1),tex,m.group(3))\n",
    "winnername= re.sub(pattern,repl,winner)\n",
    "\n",
    "\n",
    "if (m.group(2)==\"max\"): ismax=True\n",
    "testres[winnername]=evaltest(models3[m.group(1)](**dict(zip(spacenames[m.group(1)],reses[winner][0].x)),random_state=rs),datasets[ismax][m.group(3)],Y_Ext)"
   ]
  },
  {
   "cell_type": "code",
   "execution_count": 184,
   "metadata": {},
   "outputs": [
    {
     "data": {
      "text/html": [
       "<div>\n",
       "<style scoped>\n",
       "    .dataframe tbody tr th:only-of-type {\n",
       "        vertical-align: middle;\n",
       "    }\n",
       "\n",
       "    .dataframe tbody tr th {\n",
       "        vertical-align: top;\n",
       "    }\n",
       "\n",
       "    .dataframe thead th {\n",
       "        text-align: right;\n",
       "    }\n",
       "</style>\n",
       "<table border=\"1\" class=\"dataframe\">\n",
       "  <thead>\n",
       "    <tr style=\"text-align: right;\">\n",
       "      <th></th>\n",
       "      <th>Method</th>\n",
       "      <th>Model</th>\n",
       "      <th>Test Score</th>\n",
       "    </tr>\n",
       "  </thead>\n",
       "  <tbody>\n",
       "    <tr>\n",
       "      <th>0</th>\n",
       "      <td>MAE</td>\n",
       "      <td>XGBoost, Binary, Optimised baseline</td>\n",
       "      <td>1.135312</td>\n",
       "    </tr>\n",
       "    <tr>\n",
       "      <th>1</th>\n",
       "      <td>RMSE</td>\n",
       "      <td>XGBoost, Binary, Optimised baseline</td>\n",
       "      <td>2.088811</td>\n",
       "    </tr>\n",
       "    <tr>\n",
       "      <th>2</th>\n",
       "      <td>MAE</td>\n",
       "      <td>Extratrees, Binary, Optimised baseline</td>\n",
       "      <td>1.226119</td>\n",
       "    </tr>\n",
       "    <tr>\n",
       "      <th>3</th>\n",
       "      <td>RMSE</td>\n",
       "      <td>Extratrees, Binary, Optimised baseline</td>\n",
       "      <td>2.231602</td>\n",
       "    </tr>\n",
       "    <tr>\n",
       "      <th>4</th>\n",
       "      <td>MAE</td>\n",
       "      <td>GBReg, Binary, Optimised baseline</td>\n",
       "      <td>1.086769</td>\n",
       "    </tr>\n",
       "    <tr>\n",
       "      <th>5</th>\n",
       "      <td>RMSE</td>\n",
       "      <td>GBReg, Binary, Optimised baseline</td>\n",
       "      <td>2.161057</td>\n",
       "    </tr>\n",
       "    <tr>\n",
       "      <th>6</th>\n",
       "      <td>MAE</td>\n",
       "      <td>Random Forest, Binary, Optimised baseline</td>\n",
       "      <td>1.293092</td>\n",
       "    </tr>\n",
       "    <tr>\n",
       "      <th>7</th>\n",
       "      <td>RMSE</td>\n",
       "      <td>Random Forest, Binary, Optimised baseline</td>\n",
       "      <td>2.741620</td>\n",
       "    </tr>\n",
       "    <tr>\n",
       "      <th>8</th>\n",
       "      <td>MAE</td>\n",
       "      <td>GBReg, Binary, lvl1_noext</td>\n",
       "      <td>1.066995</td>\n",
       "    </tr>\n",
       "    <tr>\n",
       "      <th>9</th>\n",
       "      <td>RMSE</td>\n",
       "      <td>GBReg, Binary, lvl1_noext</td>\n",
       "      <td>1.951475</td>\n",
       "    </tr>\n",
       "  </tbody>\n",
       "</table>\n",
       "</div>"
      ],
      "text/plain": [
       "  Method                                      Model  Test Score\n",
       "0    MAE        XGBoost, Binary, Optimised baseline    1.135312\n",
       "1   RMSE        XGBoost, Binary, Optimised baseline    2.088811\n",
       "2    MAE     Extratrees, Binary, Optimised baseline    1.226119\n",
       "3   RMSE     Extratrees, Binary, Optimised baseline    2.231602\n",
       "4    MAE          GBReg, Binary, Optimised baseline    1.086769\n",
       "5   RMSE          GBReg, Binary, Optimised baseline    2.161057\n",
       "6    MAE  Random Forest, Binary, Optimised baseline    1.293092\n",
       "7   RMSE  Random Forest, Binary, Optimised baseline    2.741620\n",
       "8    MAE                  GBReg, Binary, lvl1_noext    1.066995\n",
       "9   RMSE                  GBReg, Binary, lvl1_noext    1.951475"
      ]
     },
     "execution_count": 184,
     "metadata": {},
     "output_type": "execute_result"
    }
   ],
   "source": [
    "testresdf=pd.concat([pd.DataFrame(testres),pd.Series([\"MAE\",\"RMSE\"],name=\"Test score\")],axis=1).melt(\"Test score\")\n",
    "testresdf.columns = [\"Method\",\"Model\",\"Test Score\"]\n",
    "\n",
    "testresdf"
   ]
  },
  {
   "cell_type": "code",
   "execution_count": 188,
   "metadata": {},
   "outputs": [
    {
     "data": {
      "text/plain": [
       "[6.0, 4.0]"
      ]
     },
     "execution_count": 188,
     "metadata": {},
     "output_type": "execute_result"
    }
   ],
   "source": [
    "rcParams[\"figure.figsize\"]"
   ]
  },
  {
   "cell_type": "code",
   "execution_count": 196,
   "metadata": {},
   "outputs": [
    {
     "data": {
      "image/png": "[encoded data removed]",
      "text/plain": [
       "<Figure size 504x288 with 1 Axes>"
      ]
     },
     "metadata": {
      "needs_background": "light"
     },
     "output_type": "display_data"
    }
   ],
   "source": [
    "order = list(testresdf[testresdf[\"Method\"]==\"RMSE\"].sort_values(\"Test Score\",ascending=False)[\"Model\"])\n",
    "\n",
    "fig=plt.figure(figsize=[7.0,4.0])\n",
    "ax=sns.barplot(y=\"Model\",x=\"Test Score\",hue=\"Method\",data=testresdf,palette=\"magma\", order=order)\n",
    "#ax.set_title(\"Model Test-sample Results\",pad=20)\n",
    "#ttl.set_position([.5, 1.05])\n",
    "\n",
    "ax.legend(loc=\"lower right\")\n",
    "plt.savefig(\"Out/testresults.png\",dpi=300)"
   ]
  },
  {
   "cell_type": "code",
   "execution_count": 491,
   "metadata": {},
   "outputs": [
    {
     "data": {
      "text/html": [
       "<div>\n",
       "<style scoped>\n",
       "    .dataframe tbody tr th:only-of-type {\n",
       "        vertical-align: middle;\n",
       "    }\n",
       "\n",
       "    .dataframe tbody tr th {\n",
       "        vertical-align: top;\n",
       "    }\n",
       "\n",
       "    .dataframe thead th {\n",
       "        text-align: right;\n",
       "    }\n",
       "</style>\n",
       "<table border=\"1\" class=\"dataframe\">\n",
       "  <thead>\n",
       "    <tr style=\"text-align: right;\">\n",
       "      <th></th>\n",
       "      <th>Method</th>\n",
       "      <th>Model</th>\n",
       "      <th>Test Score</th>\n",
       "    </tr>\n",
       "  </thead>\n",
       "  <tbody>\n",
       "    <tr>\n",
       "      <th>0</th>\n",
       "      <td>MAE</td>\n",
       "      <td>XGBoost, Binary, Optimised baseline</td>\n",
       "      <td>1.135312</td>\n",
       "    </tr>\n",
       "    <tr>\n",
       "      <th>1</th>\n",
       "      <td>RMSE</td>\n",
       "      <td>XGBoost, Binary, Optimised baseline</td>\n",
       "      <td>2.088811</td>\n",
       "    </tr>\n",
       "    <tr>\n",
       "      <th>2</th>\n",
       "      <td>MAE</td>\n",
       "      <td>Extratrees, Binary, Optimised baseline</td>\n",
       "      <td>1.226119</td>\n",
       "    </tr>\n",
       "    <tr>\n",
       "      <th>3</th>\n",
       "      <td>RMSE</td>\n",
       "      <td>Extratrees, Binary, Optimised baseline</td>\n",
       "      <td>2.231602</td>\n",
       "    </tr>\n",
       "    <tr>\n",
       "      <th>4</th>\n",
       "      <td>MAE</td>\n",
       "      <td>GBReg, Binary, Optimised baseline</td>\n",
       "      <td>1.086769</td>\n",
       "    </tr>\n",
       "    <tr>\n",
       "      <th>5</th>\n",
       "      <td>RMSE</td>\n",
       "      <td>GBReg, Binary, Optimised baseline</td>\n",
       "      <td>2.161057</td>\n",
       "    </tr>\n",
       "    <tr>\n",
       "      <th>6</th>\n",
       "      <td>MAE</td>\n",
       "      <td>Random Forest, Binary, Optimised baseline</td>\n",
       "      <td>1.293092</td>\n",
       "    </tr>\n",
       "    <tr>\n",
       "      <th>7</th>\n",
       "      <td>RMSE</td>\n",
       "      <td>Random Forest, Binary, Optimised baseline</td>\n",
       "      <td>2.741620</td>\n",
       "    </tr>\n",
       "    <tr>\n",
       "      <th>8</th>\n",
       "      <td>MAE</td>\n",
       "      <td>GBReg, Binary, lvl1_noext</td>\n",
       "      <td>1.066995</td>\n",
       "    </tr>\n",
       "    <tr>\n",
       "      <th>9</th>\n",
       "      <td>RMSE</td>\n",
       "      <td>GBReg, Binary, lvl1_noext</td>\n",
       "      <td>1.951475</td>\n",
       "    </tr>\n",
       "  </tbody>\n",
       "</table>\n",
       "</div>"
      ],
      "text/plain": [
       "  Method                                      Model  Test Score\n",
       "0    MAE        XGBoost, Binary, Optimised baseline    1.135312\n",
       "1   RMSE        XGBoost, Binary, Optimised baseline    2.088811\n",
       "2    MAE     Extratrees, Binary, Optimised baseline    1.226119\n",
       "3   RMSE     Extratrees, Binary, Optimised baseline    2.231602\n",
       "4    MAE          GBReg, Binary, Optimised baseline    1.086769\n",
       "5   RMSE          GBReg, Binary, Optimised baseline    2.161057\n",
       "6    MAE  Random Forest, Binary, Optimised baseline    1.293092\n",
       "7   RMSE  Random Forest, Binary, Optimised baseline    2.741620\n",
       "8    MAE                  GBReg, Binary, lvl1_noext    1.066995\n",
       "9   RMSE                  GBReg, Binary, lvl1_noext    1.951475"
      ]
     },
     "execution_count": 491,
     "metadata": {},
     "output_type": "execute_result"
    }
   ],
   "source": [
    "testresdf"
   ]
  },
  {
   "cell_type": "code",
   "execution_count": 200,
   "metadata": {},
   "outputs": [
    {
     "data": {
      "text/plain": [
       "GradientBoostingRegressor(alpha=0.7867766671351566,\n",
       "                          learning_rate=0.06056415372477089, max_depth=5,\n",
       "                          max_features=4, min_samples_split=4, n_estimators=576,\n",
       "                          random_state=42, subsample=0.9326676834240688)"
      ]
     },
     "execution_count": 200,
     "metadata": {},
     "output_type": "execute_result"
    }
   ],
   "source": [
    "winnermodel=models3[m.group(1)](**dict(zip(spacenames[m.group(1)],reses[winner][0].x)),random_state=rs)\n",
    "windata=datasets[1][\"lvl1_noext\"]\n",
    "winnermodel.fit(windata.iloc[train_ind],Y_Ext.iloc[train_ind])"
   ]
  },
  {
   "cell_type": "code",
   "execution_count": 490,
   "metadata": {},
   "outputs": [
    {
     "data": {
      "image/png": "[encoded data removed]",
      "text/plain": [
       "<Figure size 432x288 with 2 Axes>"
      ]
     },
     "metadata": {
      "needs_background": "light"
     },
     "output_type": "display_data"
    }
   ],
   "source": [
    "ypreds=winnermodel.predict(windata.iloc[test_ind])\n",
    "ytrue=Y_Ext.iloc[test_ind]\n",
    "ytrue.name=\"ytrue\"\n",
    "diffs=pd.concat([pd.Series(ypreds,name=\"ypred\"),ytrue],axis=1)\n",
    "diffs[\"diff\"]=diffs[\"ytrue\"]-diffs[\"ypred\"]\n",
    "predictions=pd.concat([pd.Series(ypreds,name=\"Predictions\"),ytrue.rename(\"True prices\",axis=1)],axis=1).melt()\n",
    "predictions.columns=[\"Predicted/True\",\"Prices\"]\n",
    "fig,axs=plt.subplots(ncols=2)\n",
    "sns.histplot(data=predictions, x=\"Prices\",hue=\"Predicted/True\",palette=\"magma\",ax=axs[0],legend=False)\n",
    "sns.histplot(predictions[predictions[\"Prices\"]<25].rename({\"Prices\":\"Prices <\\$25\"},axis=1), x=\"Prices <\\$25\",hue=\"Predicted/True\",palette=\"magma\",ax=axs[1])\n",
    "axs[1].xaxis.set_major_formatter(ticker.FuncFormatter(lambda x,pos: \"$\"+ \"{}\".format(int(x))))\n",
    "axs[0].xaxis.set_major_formatter(ticker.FuncFormatter(lambda x,pos: \"$\"+ \"{}\".format(int(x))))\n",
    "plt.savefig(\"preddist.png\",dpi=300)"
   ]
  },
  {
   "cell_type": "code",
   "execution_count": 243,
   "metadata": {},
   "outputs": [],
   "source": [
    "from sklearn.inspection import permutation_importance\n",
    "from sklearn.metrics import make_scorer\n",
    "score = make_scorer((lambda true,pred:mean_squared_error(true,pred,squared=False)),greater_is_better=False)\n",
    "permimp=permutation_importance(winnermodel,windata.iloc[test_ind],Y_Ext.iloc[test_ind],scoring=score,n_repeats=15,n_jobs=3,random_state=rs)\n"
   ]
  },
  {
   "cell_type": "code",
   "execution_count": 244,
   "metadata": {},
   "outputs": [
    {
     "data": {
      "image/png": "[encoded data removed]",
      "text/plain": [
       "<Figure size 432x288 with 1 Axes>"
      ]
     },
     "metadata": {
      "needs_background": "light"
     },
     "output_type": "display_data"
    }
   ],
   "source": [
    "sorted_idx = permimp.importances_mean.argsort()\n",
    "\n",
    "#fig, ax = plt.subplots()\n",
    "#sns.boxplot(permimp)\n",
    "permimp\n",
    "impdf=pd.DataFrame(permimp[\"importances\"]).transpose()\n",
    "impdf.columns=windata.columns\n",
    "impdf=impdf.melt()\n",
    "impdf.columns=[\"Variable\",\"Permutation-importance\"]\n",
    "order=impdf.groupby(\"Variable\").mean(\"Permutation-importance\").sort_values(by=\"Permutation-importance\",ascending=False).index\n",
    "vardict= {\"fin_size\":\"Lot size in 30 kg boxes\",\n",
    "          \"score\":\"Quality score\",\n",
    "          \"rank1\":\"Ranked 1st\",\n",
    "          \"country__Ethiopia\":\"Ethiopia\",\n",
    "          \"numDesc\":\"Number of Descriptors\",\n",
    "          \"other_variety\":\"Other variety\",\n",
    "          \"ncoff\":\"Number of coffees in competition\",\n",
    "          \"country__Costa Rica\":\"Costa Rica\",\n",
    "          \"Nutty...cocoa_lvl1\":\"Nutty-Cocoa flavour\",\n",
    "          \"country__Guatemala\":\"Guatemala\",\n",
    "          \"country__El Salvador\":\"El Salvador\",\n",
    "          \"altitude\":\"Altitude\",\n",
    "          \"organic\":\"Organic certification\",\n",
    "          \"Sour...fermented_lvl1\":\"Sour/Fermented flavour\",\n",
    "          \"rank3\":\"Ranked 3rd\"}\n",
    "\n",
    "impdf[\"Variable\"]=impdf[\"Variable\"].replace(vardict)\n",
    "order=impdf.groupby(\"Variable\").mean(\"Permutation-importance\").sort_values(by=\"Permutation-importance\",ascending=False).index\n",
    "\n",
    "sns.boxplot(data=impdf,y=\"Variable\",x=\"Permutation-importance\",order=order[0:15],palette=\"magma_r\",linewidth=0.75,fliersize=1)\n",
    "plt.savefig(\"Out/feature-imps.png\",dpi=300)"
   ]
  },
  {
   "cell_type": "code",
   "execution_count": 316,
   "metadata": {},
   "outputs": [],
   "source": [
    "winnermodelfullsample=models3[m.group(1)](**dict(zip(spacenames[m.group(1)],reses[winner][0].x)),random_state=rs)\n",
    "windata=datasets[1][\"lvl1_noext\"]\n",
    "winnermodelfullsample.fit(windata,Y_Ext)\n",
    "scaledback=pd.DataFrame(winscaler.inverse_transform(windata))\n",
    "scaledback.columns=windata.columns\n",
    "scaledback=scaledback.rename(vardict,axis=1)"
   ]
  },
  {
   "cell_type": "code",
   "execution_count": 262,
   "metadata": {},
   "outputs": [],
   "source": [
    "from sklearn.pipeline import Pipeline\n",
    "pipe = Pipeline([(\"scale down\",winscaler),(\"model\",winnermodelfullsample)])"
   ]
  },
  {
   "cell_type": "code",
   "execution_count": 325,
   "metadata": {
    "scrolled": true
   },
   "outputs": [
    {
     "data": {
      "image/png": "[encoded data removed]",
      "text/plain": [
       "<Figure size 864x648 with 4 Axes>"
      ]
     },
     "metadata": {
      "needs_background": "light"
     },
     "output_type": "display_data"
    }
   ],
   "source": [
    "from PyALE import ale\n",
    "import matplotlib.ticker as ticker\n",
    "fig,[[axs1,axs2],[axs3,axs4]] = plt.subplots(2,2,figsize=(12,9))\n",
    "ale_res_1 = ale(\n",
    "    X=scaledback,\n",
    "    model=pipe,\n",
    "    feature=[\"Lot size in 30 kg boxes\"],\n",
    "    feature_type=\"continuous\",\n",
    "    grid_size=20,\n",
    "    include_CI=True,\n",
    "    C=0.95,\n",
    "    plot=True,\n",
    "    fig=fig,\n",
    "    ax=axs1\n",
    ")\n",
    "ale_res_2 = ale(\n",
    "    X=scaledback,\n",
    "    model=pipe,\n",
    "    feature=[\"Quality score\"],\n",
    "    feature_type=\"continuous\",\n",
    "    grid_size=20,\n",
    "    include_CI=True,\n",
    "    C=0.95,\n",
    "    plot=True,\n",
    "    fig=fig,\n",
    "    ax=axs2\n",
    ")\n",
    "ale_res_3 = ale(\n",
    "    X=scaledback,\n",
    "    model=pipe,\n",
    "    feature=[\"Number of Descriptors\"],\n",
    "    feature_type=\"continuous\",\n",
    "    grid_size=20,\n",
    "    include_CI=True,\n",
    "    C=0.95,\n",
    "    plot=True,\n",
    "    fig=fig,\n",
    "    ax=axs3\n",
    ")\n",
    "ale_res_4 = ale(\n",
    "    X=scaledback,\n",
    "    model=pipe,\n",
    "    feature=[\"Number of coffees in competition\"],\n",
    "    feature_type=\"continuous\",\n",
    "    grid_size=20,\n",
    "    include_CI=True,\n",
    "    C=0.95,\n",
    "    plot=True,\n",
    "    fig=fig,\n",
    "    ax=axs4\n",
    ")\n",
    "\n",
    "axs1.title\n",
    "for ax in plt.gcf().axes:\n",
    "    ax.yaxis.set_major_formatter(ticker.FuncFormatter(lambda x,pos: \"$\"+ \"{}\".format(x)))\n",
    "    ax.get_lines()[0].set_color(\"#B63679FF\")\n",
    "    ax.get_children()[-12].remove()\n",
    "plt.savefig(\"Out/ALEcont.png\",dpi=300)"
   ]
  },
  {
   "cell_type": "code",
   "execution_count": 382,
   "metadata": {},
   "outputs": [
    {
     "data": {
      "text/plain": [
       "0    2374\n",
       "1     137\n",
       "2     134\n",
       "3     127\n",
       "4     117\n",
       "Name: rank, dtype: int64"
      ]
     },
     "execution_count": 382,
     "metadata": {},
     "output_type": "execute_result"
    }
   ],
   "source": [
    "ranksintact = scaledback.drop([\"Ranked 1st\", \"Ranked 3rd\",\"rank4\",\"rank2\"], axis=1, inplace=False).copy()\n",
    "ranksintact = pd.concat([ranksintact,traore_data[\"rank\"]],axis=1)\n",
    "ranksintact[\"rank\"]=ranksintact[\"rank\"].str.extract(\"(\\d+)\").astype(int)\n",
    "ranksintact.loc[ranksintact[\"rank\"]>4,\"rank\"]=0\n"
   ]
  },
  {
   "cell_type": "code",
   "execution_count": 393,
   "metadata": {},
   "outputs": [
    {
     "data": {
      "text/plain": [
       "0       0\n",
       "1       1\n",
       "2       0\n",
       "3       0\n",
       "4       0\n",
       "       ..\n",
       "2884    0\n",
       "2885    0\n",
       "2886    0\n",
       "2887    0\n",
       "2888    0\n",
       "Name: rank2, Length: 2889, dtype: uint8"
      ]
     },
     "execution_count": 393,
     "metadata": {},
     "output_type": "execute_result"
    }
   ],
   "source": [
    "def encoderanksfull(df):\n",
    "    dummies=pd.get_dummies(df[\"rank\"],prefix=\"rank\")\n",
    "    dummies=dummies.drop(\"rank_0\",axis=1)\n",
    "    dummies.columns=[\"Ranked 1st\",\"rank2\",\"Ranked 3rd\",\"rank4\"]\n",
    "    fin=pd.concat([df.drop(\"rank\",axis=1),dummies],axis=1)\n",
    "    return fin\n"
   ]
  },
  {
   "cell_type": "code",
   "execution_count": 457,
   "metadata": {},
   "outputs": [
    {
     "name": "stderr",
     "output_type": "stream",
     "text": [
      "<ipython-input-457-73d760e181b4>:32: UserWarning: FixedFormatter should only be used together with FixedLocator\n",
      "  ax.set_xticklabels(labels)\n"
     ]
    },
    {
     "data": {
      "image/png": "[encoded data removed]",
      "text/plain": [
       "<Figure size 432x288 with 2 Axes>"
      ]
     },
     "metadata": {
      "needs_background": "light"
     },
     "output_type": "display_data"
    }
   ],
   "source": [
    "fig,ax=plt.subplots()\n",
    "ale_ranks = ale(\n",
    "    X=ranksintact,\n",
    "    model=pipe,\n",
    "    feature=[\"rank\"],\n",
    "    feature_type=\"categorical\",\n",
    "    grid_size=20,\n",
    "    encode_fun=encoderanksfull,\n",
    "    include_CI=True,\n",
    "    C=0.95,\n",
    "    plot=True,\n",
    "    predictors=list(scaledback.columns),\n",
    "    fig=fig,\n",
    "    ax=ax\n",
    ")\n",
    "ax.yaxis.set_major_formatter(ticker.FuncFormatter(lambda x,pos: \"$\"+ \"{}\".format(x)))\n",
    "ax.get_lines()[0].set_color(\"#B63679FF\")\n",
    "ax.get_lines()[1].set_color(\"#B63679FF\")\n",
    "ax.get_lines()[2].set_color(\"#B63679FF\")\n",
    "ax.get_children()[0].set_color(\"#B63679FF\")\n",
    "\n",
    "ax2=plt.gca()\n",
    "for rect in ax2.get_children()[0:5]:\n",
    "    rect.set_color(\"#3B0F70FF\")\n",
    "ax2.tick_params(axis=\"y\",color=\"black\",which=\"both\")\n",
    "[t.set_color('black') for t in ax2.yaxis.get_ticklabels()]\n",
    "ax2.yaxis.label.set_color('black')\n",
    "ax2.set_ylabel(\"Occurences\")\n",
    "ax.set_xlabel(\"Rank\")\n",
    "labels = [item.get_text() for item in ax.get_xticklabels()]\n",
    "labels[-1] = '4<'\n",
    "ax.set_xticklabels(labels)\n",
    "plt.savefig(\"ranks.png\",dpi=300)"
   ]
  }
 ],
 "metadata": {
  "kernelspec": {
   "display_name": "Python 3",
   "language": "python",
   "name": "python3"
  },
  "language_info": {
   "codemirror_mode": {
    "name": "ipython",
    "version": 3
   },
   "file_extension": ".py",
   "mimetype": "text/x-python",
   "name": "python",
   "nbconvert_exporter": "python",
   "pygments_lexer": "ipython3",
   "version": "3.8.5"
  }
 },
 "nbformat": 4,
 "nbformat_minor": 4
}
